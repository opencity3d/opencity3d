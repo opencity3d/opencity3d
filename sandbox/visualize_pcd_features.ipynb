{
 "cells": [
  {
   "cell_type": "code",
   "execution_count": 30,
   "metadata": {},
   "outputs": [],
   "source": [
    "import open3d as o3d\n",
    "import numpy as np\n",
    "from copy import deepcopy\n",
    "import sys\n",
    "sys.path.append(\"..\")\n",
    "import matplotlib.pyplot as plt\n",
    "import torch\n",
    "import os\n",
    "from open_clip import create_model_from_pretrained, get_tokenizer, create_model_and_transforms\n",
    "from text_encoder import get_encode_fn\n",
    "from visualization_utils import visualize"
   ]
  },
  {
   "cell_type": "code",
   "execution_count": 8,
   "metadata": {},
   "outputs": [],
   "source": [
    "tag = \"rotterdam-siglip-more-data-corrupted\" # \"brooklyn-bridge-new\" #\n",
    "# tag = \"buenos-aires-squared-v3\"\n",
    "model_type = \"siglip\"\n",
    "crop_type = \"highlight\" #\"highlight\" #\"full\""
   ]
  },
  {
   "cell_type": "code",
   "execution_count": 9,
   "metadata": {},
   "outputs": [
    {
     "name": "stderr",
     "output_type": "stream",
     "text": [
      "c:\\Users\\Valentin\\anaconda3\\envs\\Scraping\\lib\\site-packages\\huggingface_hub\\file_download.py:1132: FutureWarning: `resume_download` is deprecated and will be removed in version 1.0.0. Downloads always resume when possible. If you want to force a new download, use `force_download=True`.\n",
      "  warnings.warn(\n"
     ]
    }
   ],
   "source": [
    "model, tokenizer, encode_text = get_encode_fn(model_type)"
   ]
  },
  {
   "cell_type": "code",
   "execution_count": 10,
   "metadata": {},
   "outputs": [
    {
     "name": "stdout",
     "output_type": "stream",
     "text": [
      "(500000, 4, 1152) (500000, 3)\n"
     ]
    }
   ],
   "source": [
    "path = f\"../data/embedded_point_clouds/{tag}\"\n",
    "pcd = o3d.io.read_point_cloud(os.path.join(path, \"generated_point_cloud.ply\"))\n",
    "pcd_colors = deepcopy(pcd.colors)\n",
    "features = np.load(os.path.join(path, f\"point_features_{crop_type}.npy\")).astype(np.float16)\n",
    "features = features.transpose(1, 0, 2)\n",
    "print(features.shape, np.asarray(pcd.points).shape)\n",
    "assert len(features) == len(pcd.points)"
   ]
  },
  {
   "cell_type": "code",
   "execution_count": 10,
   "metadata": {},
   "outputs": [],
   "source": [
    "o3d.visualization.draw_geometries([pcd])"
   ]
  },
  {
   "cell_type": "code",
   "execution_count": null,
   "metadata": {},
   "outputs": [],
   "source": [
    "# print(\"We make a partial mesh of only the first half triangles.\")\n",
    "# import copy\n",
    "# mesh1 = copy.deepcopy(meshy)\n",
    "# mesh1.triangles = o3d.utility.Vector3iVector(\n",
    "#     np.asarray(mesh1.triangles)[:len(mesh1.triangles) // 2, :])\n",
    "# mesh1.triangle_normals = o3d.utility.Vector3dVector(\n",
    "#     np.asarray(mesh1.triangle_normals)[:len(mesh1.triangle_normals) // 2, :])\n",
    "# print(mesh1.triangles)\n",
    "# o3d.visualization.draw_geometries([mesh1])"
   ]
  },
  {
   "cell_type": "code",
   "execution_count": 33,
   "metadata": {},
   "outputs": [
    {
     "name": "stdout",
     "output_type": "stream",
     "text": [
      "[Open3D WARNING] [ViewControl] SetViewPoint() failed because window height and width are not set.\n",
      "[Open3D WARNING] [ViewControl] SetViewPoint() failed because window height and width are not set.\n"
     ]
    }
   ],
   "source": [
    "# from visualization_utils import grayscale_to_plasma\n",
    "# # pcd.colors = o3d.utility.Vector3dVector(grayscale_to_plasma(sim[:,0]))\n",
    "# #mesh = o3d.io.read_triangle_mesh(\"C:/MSC-Data/OpenCity/rotterdam/rotterdam.obj\".replace('\\\\',\"/\"), True)\n",
    "# mesh = o3d.io.read_triangle_mesh(\"C:/MSC-Data/OpenCity/buenos-aires-squared-shifted/buenos-aires-squared-shifted.obj\".replace('\\\\',\"/\"), True)\n",
    "# def set_pos(vis):\n",
    "#     ctr = vis.get_view_control()\n",
    "#     parameters = o3d.io.read_pinhole_camera_parameters(\"C:/Users/Valentin\\PycharmProjects\\OpenCity\\sandbox\\ScreenCamera_2024-05-26-16-43-45.json\".replace('\\\\',\"/\"))\n",
    "#     ctr.convert_from_pinhole_camera_parameters(parameters, True)\n",
    "#     vis.update_renderer()\n",
    "#     vis.update_geometry(mesh)\n",
    "\n",
    "# o3d.visualization.draw_geometries_with_key_callbacks([mesh],\n",
    "#                                                             {ord(\"Q\"): set_pos},\n",
    "#                                                             )"
   ]
  },
  {
   "cell_type": "code",
   "execution_count": null,
   "metadata": {},
   "outputs": [],
   "source": [
    "# indices = (np.asarray(pcd.points)[: ,2] > 0) & (np.asarray(pcd.points)[: ,0] > 0) & ~(features[:,0] == 0).all(axis=1)\n",
    "# pcd2 = pcd.select_by_index(np.where(indices)[0])\n",
    "# sim2 = sim[indices, :]\n",
    "\n",
    "\n",
    "# # ctr = o3d.visualizations.get_view_control()\n",
    "# # parameters = o3d.io.read_pinhole_camera_parameters(\"C:/Users/Valentin\\PycharmProjects\\OpenCity\\sandbox\\ScreenCamera_2024-05-26-16-43-45.json\".replace('\\\\',))\n",
    "# # ctr.convert_from_pinhole_camera_parameters(parameters)\n",
    "\n",
    "# visualize(pcd2, sim2[:,1], query)"
   ]
  },
  {
   "cell_type": "markdown",
   "metadata": {},
   "source": [
    "## Urban inventory"
   ]
  },
  {
   "cell_type": "code",
   "execution_count": 29,
   "metadata": {},
   "outputs": [
    {
     "name": "stderr",
     "output_type": "stream",
     "text": [
      "c:\\Users\\Valentin\\anaconda3\\envs\\Scraping\\lib\\site-packages\\torch\\amp\\autocast_mode.py:250: UserWarning: User provided device_type of 'cuda', but CUDA is not available. Disabling\n",
      "  warnings.warn(\n"
     ]
    },
    {
     "name": "stdout",
     "output_type": "stream",
     "text": [
      "(500000, 1)\n"
     ]
    }
   ],
   "source": [
    "queries = [\"tree\"] # [\"tree\", \"building\", \"road\", \"tennis court\", \"river\", \"car\", \"sea / lake / canal\", \"university\", \"Depot Boijmans Van Beuningen\"]\n",
    "\n",
    "query_embed = encode_text(queries, model, tokenizer)\n",
    "sim = features @ query_embed \n",
    "sim = sim.max(axis=1)\n",
    "# sim = np.exp(sim)\n",
    "    # sim = np.exp(sim) / (np.exp(sim) + np.exp(max_canonical_sim))\n",
    "print(sim.shape)\n",
    "\n",
    "for i, query in enumerate(queries):\n",
    "    visualize(pcd, sim[:,i], query)"
   ]
  },
  {
   "cell_type": "code",
   "execution_count": 12,
   "metadata": {},
   "outputs": [
    {
     "data": {
      "text/plain": [
       "(500000, 1)"
      ]
     },
     "execution_count": 12,
     "metadata": {},
     "output_type": "execute_result"
    }
   ],
   "source": [
    "sim.shape"
   ]
  },
  {
   "cell_type": "markdown",
   "metadata": {},
   "source": [
    "### Age of building"
   ]
  },
  {
   "cell_type": "code",
   "execution_count": 14,
   "metadata": {},
   "outputs": [
    {
     "name": "stderr",
     "output_type": "stream",
     "text": [
      "c:\\Users\\Valentin\\anaconda3\\envs\\Scraping\\lib\\site-packages\\torch\\amp\\autocast_mode.py:250: UserWarning: User provided device_type of 'cuda', but CUDA is not available. Disabling\n",
      "  warnings.warn(\n"
     ]
    },
    {
     "name": "stdout",
     "output_type": "stream",
     "text": [
      "(500000, 10)\n",
      "(500000, 10)\n"
     ]
    }
   ],
   "source": [
    "queries_age = [\"historic building\", \"old house\", \"traditional architecture\", \"modern building\", \"contemporary architecture\", \"new house\", \"house\", \"tree\", \"road\", \"grass\"]\n",
    "# queries_age = [ \"old building\", \"modern building\", \"house\", \"tree\", \"road\", \"grass\"]\n",
    "query_embed_age = encode_text(queries_age, model, tokenizer)\n",
    "sim_age = features @ query_embed_age\n",
    "sim_age = sim_age.max(axis=1)\n",
    "sim_norm_age = np.exp(sim_age) / np.exp(sim_age).sum(-1, keepdims=True)\n",
    "print(sim_age.shape)\n",
    "\n",
    "print(sim_age.shape)\n",
    "sim_ratio = sim_age[:, :3].sum(axis=-1) - sim_age[:, 3:6].sum(axis=-1)\n",
    "visualize(pcd, sim_ratio, \"old / new ratio\")\n",
    "\n",
    "for i, query in enumerate(queries_age):\n",
    "    visualize(pcd, sim_norm_age[:,i], query, normalize=False)"
   ]
  },
  {
   "cell_type": "markdown",
   "metadata": {},
   "source": [
    "## Social Dynamics"
   ]
  },
  {
   "cell_type": "markdown",
   "metadata": {},
   "source": [
    "### population density"
   ]
  },
  {
   "cell_type": "code",
   "execution_count": null,
   "metadata": {},
   "outputs": [
    {
     "name": "stdout",
     "output_type": "stream",
     "text": [
      "0.997186 0.0\n"
     ]
    },
    {
     "data": {
      "image/png": "[encoded data removed]",
      "text/plain": [
       "<Figure size 640x480 with 1 Axes>"
      ]
     },
     "metadata": {},
     "output_type": "display_data"
    }
   ],
   "source": [
    "queries = [\"densely populated area\", \"loosely populated area\", \"unpopulated area\", \"nature\", \"urban area\"]\n",
    "query_embed = encode_text(queries, model, tokenizer)\n",
    "sim = features @ query_embed \n",
    "sim = sim.max(axis=1)\n",
    "visualize(np.exp(sim[:,0]- 0.5*sim[:,1] - 0.5 * sim[:, 3]), \"densely populated - unpopulated\")\n"
   ]
  },
  {
   "cell_type": "markdown",
   "metadata": {},
   "source": [
    "### crime rate"
   ]
  },
  {
   "cell_type": "code",
   "execution_count": null,
   "metadata": {},
   "outputs": [
    {
     "name": "stderr",
     "output_type": "stream",
     "text": [
      "c:\\Users\\Valentin\\anaconda3\\envs\\Scraping\\lib\\site-packages\\torch\\amp\\autocast_mode.py:250: UserWarning: User provided device_type of 'cuda', but CUDA is not available. Disabling\n",
      "  warnings.warn(\n"
     ]
    },
    {
     "name": "stdout",
     "output_type": "stream",
     "text": [
      "0.996096 0.0\n"
     ]
    },
    {
     "data": {
      "image/png": "[encoded data removed]",
      "text/plain": [
       "<Figure size 640x480 with 1 Axes>"
      ]
     },
     "metadata": {},
     "output_type": "display_data"
    },
    {
     "name": "stdout",
     "output_type": "stream",
     "text": [
      "Switching coloring\n",
      "Switching coloring\n",
      "Switching coloring\n",
      "Switching coloring\n",
      "Switching coloring\n",
      "Switching coloring\n",
      "Switching coloring\n",
      "Switching coloring\n",
      "Switching coloring\n",
      "Switching coloring\n",
      "Switching coloring\n",
      "Switching coloring\n",
      "Switching coloring\n",
      "Switching coloring\n",
      "Switching coloring\n",
      "Switching coloring\n",
      "Switching coloring\n",
      "Switching coloring\n",
      "Switching coloring\n",
      "Switching coloring\n"
     ]
    }
   ],
   "source": [
    "queries = [\"dangerous neighborhood\", \"safe neighborhood\", \"nature\",]\n",
    "\n",
    "query_embed = encode_text(queries, model, tokenizer)\n",
    "sim = features @ query_embed \n",
    "sim = sim.max(axis=1)\n",
    "\n",
    "danger_ratio = sim[:,0] - (sim[:,1] + 0.1*sim[:,2])\n",
    "danger_ratio = np.exp(danger_ratio)\n",
    "danger_ratio[(features[:,0] == 0).all(axis=1)] = np.min(danger_ratio[(features[:,0] != 0).any(axis=1)])\n",
    "visualize(danger_ratio, \"dangerous / safe ratio\")\n",
    "\n",
    "#     visualize(sim[:,i], query)"
   ]
  },
  {
   "cell_type": "markdown",
   "metadata": {},
   "source": [
    "### housing prices"
   ]
  },
  {
   "cell_type": "code",
   "execution_count": null,
   "metadata": {},
   "outputs": [
    {
     "name": "stdout",
     "output_type": "stream",
     "text": [
      "(1000000, 7)\n",
      "0.997351 0.0\n"
     ]
    },
    {
     "data": {
      "image/png": "[encoded data removed]",
      "text/plain": [
       "<Figure size 640x480 with 1 Axes>"
      ]
     },
     "metadata": {},
     "output_type": "display_data"
    }
   ],
   "source": [
    "queries = [\"rich neighborhood\", \"expensive area\", \"poor neighborhood\",  \"cheap area\", \"nature\", \"urban area\", \"unpopulated area\"]\n",
    "\n",
    "query_embed = encode_text(queries, model, tokenizer)\n",
    "sim = features @ query_embed \n",
    "sim = sim.max(axis=1)\n",
    "print(sim.shape)\n",
    "\n",
    "expensiveness_ratio = sim[:,:2].sum(axis=-1) - sim[:,2] - sim[:,3] + 0.1*sim[:,4]\n",
    "visualize(expensiveness_ratio, \"expensive / cheap ratio\")"
   ]
  }
 ],
 "metadata": {
  "kernelspec": {
   "display_name": "opencity",
   "language": "python",
   "name": "python3"
  },
  "language_info": {
   "codemirror_mode": {
    "name": "ipython",
    "version": 3
   },
   "file_extension": ".py",
   "mimetype": "text/x-python",
   "name": "python",
   "nbconvert_exporter": "python",
   "pygments_lexer": "ipython3",
   "version": "3.10.11"
  }
 },
 "nbformat": 4,
 "nbformat_minor": 2
}
